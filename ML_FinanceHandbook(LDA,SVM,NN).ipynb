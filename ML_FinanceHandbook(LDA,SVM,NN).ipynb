{
 "cells": [
  {
   "cell_type": "markdown",
   "metadata": {
    "id": "Iy61Ko_Z6l9t"
   },
   "source": [
    "# **Handbook**\n"
   ]
  },
  {
   "cell_type": "markdown",
   "metadata": {
    "id": "vbXdEzGF7dJx"
   },
   "source": [
    "## Computation and Technical Section"
   ]
  },
  {
   "cell_type": "markdown",
   "metadata": {
    "id": "n9zTJCs_7BHY"
   },
   "source": [
    "## $\\underline{Linear \\  Discriminant \\ Analysis}$ "
   ]
  },
  {
   "cell_type": "markdown",
   "metadata": {
    "id": "sGMTpT9NodOz"
   },
   "source": [
    "We use random classification dataset from scikit learn with 1,000 examples, each with 10 input variables in order to compute the LDA.\n"
   ]
  },
  {
   "cell_type": "code",
   "execution_count": 1,
   "metadata": {
    "executionInfo": {
     "elapsed": 1051,
     "status": "ok",
     "timestamp": 1681844333712,
     "user": {
      "displayName": "Win Htet",
      "userId": "03895928721449709279"
     },
     "user_tz": -390
    },
    "id": "gWGaQDasoR3e"
   },
   "outputs": [],
   "source": [
    "# Importing libraries used in analysis \n",
    "import numpy as np\n",
    "import pandas as pd\n",
    "from numpy import mean\n",
    "from numpy import std\n",
    "from sklearn.datasets import make_classification\n",
    "from sklearn.model_selection import cross_val_score\n",
    "from sklearn.model_selection import RepeatedStratifiedKFold\n",
    "from sklearn.discriminant_analysis import LinearDiscriminantAnalysis\n",
    "from sklearn.datasets import make_classification\n",
    "\n",
    "# Ignoring warnings\n",
    "import warnings \n",
    "warnings.filterwarnings('ignore')"
   ]
  },
  {
   "cell_type": "code",
   "execution_count": 2,
   "metadata": {
    "colab": {
     "base_uri": "https://localhost:8080/"
    },
    "executionInfo": {
     "elapsed": 5,
     "status": "ok",
     "timestamp": 1681844333712,
     "user": {
      "displayName": "Win Htet",
      "userId": "03895928721449709279"
     },
     "user_tz": -390
    },
    "id": "6DEyCNmKqm1R",
    "outputId": "ffedccb5-c96e-4c84-8997-0f6de20b3441"
   },
   "outputs": [
    {
     "name": "stdout",
     "output_type": "stream",
     "text": [
      "(1000, 10) (1000,)\n"
     ]
    }
   ],
   "source": [
    "# create the lda model\n",
    "model = LinearDiscriminantAnalysis()\n",
    "\n",
    "# define dataset from scikit learn\n",
    "X, y = make_classification(n_samples=1000, n_features=10, n_informative=10, n_redundant=0, random_state=1)\n",
    "# summarize the dataset\n",
    "print(X.shape, y.shape)"
   ]
  },
  {
   "cell_type": "code",
   "execution_count": 3,
   "metadata": {
    "colab": {
     "base_uri": "https://localhost:8080/"
    },
    "executionInfo": {
     "elapsed": 1602,
     "status": "ok",
     "timestamp": 1681844335311,
     "user": {
      "displayName": "Win Htet",
      "userId": "03895928721449709279"
     },
     "user_tz": -390
    },
    "id": "fi608Pm7GByl",
    "outputId": "63a3a2b9-6e93-4b8f-f2a8-48ff83372da5"
   },
   "outputs": [
    {
     "name": "stdout",
     "output_type": "stream",
     "text": [
      "Mean Accuracy: 0.893 (0.033)\n"
     ]
    }
   ],
   "source": [
    "# define model evaluation method\n",
    "cv = RepeatedStratifiedKFold(n_splits=10, n_repeats=3, random_state=1)\n",
    "# evaluate model\n",
    "scores = cross_val_score(model, X, y, scoring='accuracy', cv=cv, n_jobs=-1)\n",
    "# summarize result\n",
    "print('Mean Accuracy: %.3f (%.3f)' % (mean(scores), std(scores)))"
   ]
  },
  {
   "cell_type": "code",
   "execution_count": 4,
   "metadata": {
    "colab": {
     "base_uri": "https://localhost:8080/"
    },
    "executionInfo": {
     "elapsed": 12,
     "status": "ok",
     "timestamp": 1681844335313,
     "user": {
      "displayName": "Win Htet",
      "userId": "03895928721449709279"
     },
     "user_tz": -390
    },
    "id": "ndWJNTaeq_hQ",
    "outputId": "e7cad32a-7b23-4f53-a0a9-d66ce4c7ceb3"
   },
   "outputs": [
    {
     "name": "stdout",
     "output_type": "stream",
     "text": [
      "Predicted Class: 1\n"
     ]
    }
   ],
   "source": [
    "# Demonstration on classification with new data\n",
    "# define new data\n",
    "model = LinearDiscriminantAnalysis()\n",
    "model.fit(X,y)\n",
    "row = [0.12777556,-3.64400522,-2.23268854,-1.82114386,1.75466361,0.1243966,1.03397657,2.35822076,1.01001752,0.56768485]\n",
    "# make a prediction\n",
    "yhat = model.predict([row])\n",
    "# summarize prediction\n",
    "print('Predicted Class: %d' % yhat)"
   ]
  },
  {
   "cell_type": "code",
   "execution_count": 5,
   "metadata": {
    "colab": {
     "base_uri": "https://localhost:8080/"
    },
    "executionInfo": {
     "elapsed": 974,
     "status": "ok",
     "timestamp": 1681844338460,
     "user": {
      "displayName": "Win Htet",
      "userId": "03895928721449709279"
     },
     "user_tz": -390
    },
    "id": "7vE93HoKrZXG",
    "outputId": "5b3de12d-7015-47ae-c2f7-3a2f2cc8aa5b"
   },
   "outputs": [
    {
     "name": "stdout",
     "output_type": "stream",
     "text": [
      "Mean Accuracy: 0.893\n",
      "Config: {'solver': 'svd'}\n"
     ]
    }
   ],
   "source": [
    "# Tuning Hyperparameters with GridSearchCV\n",
    "from sklearn.model_selection import GridSearchCV\n",
    "\n",
    "# define grid\n",
    "grid = dict()\n",
    "grid['solver'] = ['svd', 'lsqr', 'eigen']\n",
    "# define search\n",
    "search = GridSearchCV(model, grid, scoring='accuracy', cv=cv, n_jobs=-1)\n",
    "# perform the search\n",
    "results = search.fit(X, y)\n",
    "# summarize\n",
    "print('Mean Accuracy: %.3f' % results.best_score_)\n",
    "print('Config: %s' % results.best_params_)"
   ]
  },
  {
   "cell_type": "code",
   "execution_count": 6,
   "metadata": {
    "colab": {
     "base_uri": "https://localhost:8080/"
    },
    "executionInfo": {
     "elapsed": 29855,
     "status": "ok",
     "timestamp": 1681844370030,
     "user": {
      "displayName": "Win Htet",
      "userId": "03895928721449709279"
     },
     "user_tz": -390
    },
    "id": "7X6zYglfsTxQ",
    "outputId": "ac3d061d-b463-42a5-baa1-64af472381c3"
   },
   "outputs": [
    {
     "name": "stdout",
     "output_type": "stream",
     "text": [
      "Mean Accuracy: 0.894\n",
      "Config: {'shrinkage': 0.02}\n"
     ]
    }
   ],
   "source": [
    "# Shrinkage\n",
    "# define dataset\n",
    "X, y = make_classification(n_samples=1000, n_features=10, n_informative=10, n_redundant=0, random_state=1)\n",
    "# define model\n",
    "model = LinearDiscriminantAnalysis(solver='lsqr')\n",
    "# define model evaluation method\n",
    "cv = RepeatedStratifiedKFold(n_splits=10, n_repeats=3, random_state=1)\n",
    "# define grid\n",
    "grid = dict()\n",
    "grid['shrinkage'] = np.arange(0, 1, 0.01)\n",
    "# define search\n",
    "search = GridSearchCV(model, grid, scoring='accuracy', cv=cv, n_jobs=-1)\n",
    "# perform the search\n",
    "results = search.fit(X, y)\n",
    "# summarize\n",
    "print('Mean Accuracy: %.3f' % results.best_score_)\n",
    "print('Config: %s' % results.best_params_)"
   ]
  },
  {
   "cell_type": "markdown",
   "metadata": {
    "id": "tAJFVFCT7jjK"
   },
   "source": [
    "## $\\underline{Support \\  Vector \\ Machines}$\n",
    "\n"
   ]
  },
  {
   "cell_type": "markdown",
   "metadata": {
    "id": "tQwJ6XRj7mws"
   },
   "source": [
    "### SVM for Multiclassification\n",
    "\n",
    "For the SVM, we use wine data from scikit-learn datasets. \\\\\n",
    "The dataset is not very big, but its multiclassification to classify the wine class takes a bit different from binary problem as well as the quality metrics consideration.\n"
   ]
  },
  {
   "cell_type": "code",
   "execution_count": 7,
   "metadata": {
    "executionInfo": {
     "elapsed": 1333,
     "status": "ok",
     "timestamp": 1681844375562,
     "user": {
      "displayName": "Win Htet",
      "userId": "03895928721449709279"
     },
     "user_tz": -390
    },
    "id": "kjOlzqMT5GIv"
   },
   "outputs": [],
   "source": [
    "# Importing Basic Lbraries and plot\n",
    "import numpy as np\n",
    "import pandas as pd\n",
    "import matplotlib.pyplot as plt\n",
    "from matplotlib import pyplot\n",
    "import seaborn as sns\n",
    "import math\n",
    "from matplotlib.colors import ListedColormap\n",
    "\n",
    "# Importing Libraries for SVM\n",
    "from sklearn.preprocessing import StandardScaler\n",
    "from sklearn.metrics import roc_auc_score, roc_curve\n",
    "from sklearn.model_selection import train_test_split, GridSearchCV\n",
    "from sklearn import svm\n",
    "from sklearn.tree import DecisionTreeClassifier\n",
    "from sklearn.metrics import r2_score, mean_absolute_error, mean_squared_error\n",
    "\n",
    "# Ignoring warnings\n",
    "import warnings \n",
    "warnings.filterwarnings('ignore')"
   ]
  },
  {
   "cell_type": "code",
   "execution_count": 8,
   "metadata": {
    "executionInfo": {
     "elapsed": 3,
     "status": "ok",
     "timestamp": 1681844377680,
     "user": {
      "displayName": "Win Htet",
      "userId": "03895928721449709279"
     },
     "user_tz": -390
    },
    "id": "HGdTCiTrJu8a"
   },
   "outputs": [],
   "source": [
    "# import scikit-learn dataset library\n",
    "from sklearn import datasets\n",
    "# load dataset (Wine Data)\n",
    "df = datasets.load_wine()"
   ]
  },
  {
   "cell_type": "code",
   "execution_count": 9,
   "metadata": {
    "colab": {
     "base_uri": "https://localhost:8080/"
    },
    "executionInfo": {
     "elapsed": 5,
     "status": "ok",
     "timestamp": 1681844381219,
     "user": {
      "displayName": "Win Htet",
      "userId": "03895928721449709279"
     },
     "user_tz": -390
    },
    "id": "fTFV8X7rdZpk",
    "outputId": "2f5d97bc-fa4c-43a0-86bd-fc002494bd5c"
   },
   "outputs": [
    {
     "name": "stdout",
     "output_type": "stream",
     "text": [
      "Inputs:  ['alcohol', 'malic_acid', 'ash', 'alcalinity_of_ash', 'magnesium', 'total_phenols', 'flavanoids', 'nonflavanoid_phenols', 'proanthocyanins', 'color_intensity', 'hue', 'od280/od315_of_diluted_wines', 'proline']\n",
      "Outputs:  ['class_0' 'class_1' 'class_2']\n"
     ]
    }
   ],
   "source": [
    "# print the names of the 13 features\n",
    "print (\"Inputs: \", df.feature_names)\n",
    "# print the label type of wine(class_0, class_1, class_2)\n",
    "print (\"Outputs: \", df.target_names)"
   ]
  },
  {
   "cell_type": "code",
   "execution_count": 10,
   "metadata": {
    "colab": {
     "base_uri": "https://localhost:8080/"
    },
    "executionInfo": {
     "elapsed": 6,
     "status": "ok",
     "timestamp": 1681844383368,
     "user": {
      "displayName": "Win Htet",
      "userId": "03895928721449709279"
     },
     "user_tz": -390
    },
    "id": "mDxzReO8dXqW",
    "outputId": "c753bce7-d1a6-4f3a-d4dd-00b36e5f2459"
   },
   "outputs": [
    {
     "name": "stdout",
     "output_type": "stream",
     "text": [
      "[0 0 0 0 0 0 0 0 0 0 0 0 0 0 0 0 0 0 0 0 0 0 0 0 0 0 0 0 0 0 0 0 0 0 0 0 0\n",
      " 0 0 0 0 0 0 0 0 0 0 0 0 0 0 0 0 0 0 0 0 0 0 1 1 1 1 1 1 1 1 1 1 1 1 1 1 1\n",
      " 1 1 1 1 1 1 1 1 1 1 1 1 1 1 1 1 1 1 1 1 1 1 1 1 1 1 1 1 1 1 1 1 1 1 1 1 1\n",
      " 1 1 1 1 1 1 1 1 1 1 1 1 1 1 1 1 1 1 1 2 2 2 2 2 2 2 2 2 2 2 2 2 2 2 2 2 2\n",
      " 2 2 2 2 2 2 2 2 2 2 2 2 2 2 2 2 2 2 2 2 2 2 2 2 2 2 2 2 2 2]\n"
     ]
    }
   ],
   "source": [
    "# print the wine labels \n",
    "print (df.target)"
   ]
  },
  {
   "cell_type": "code",
   "execution_count": 11,
   "metadata": {
    "executionInfo": {
     "elapsed": 9,
     "status": "ok",
     "timestamp": 1681844385844,
     "user": {
      "displayName": "Win Htet",
      "userId": "03895928721449709279"
     },
     "user_tz": -390
    },
    "id": "DjIZfK3oKmdK"
   },
   "outputs": [],
   "source": [
    "# import train_test_split function\n",
    "from sklearn.model_selection import train_test_split\n",
    "# input and outputs\n",
    "inputs = df.data\n",
    "outputs = df.target\n",
    "# Split dataset into training set and test set 25%\n",
    "X_train, X_test, y_train, y_test = train_test_split(inputs, outputs, test_size=0.25, random_state=0)"
   ]
  },
  {
   "cell_type": "code",
   "execution_count": 12,
   "metadata": {
    "colab": {
     "base_uri": "https://localhost:8080/"
    },
    "executionInfo": {
     "elapsed": 526,
     "status": "ok",
     "timestamp": 1681844390520,
     "user": {
      "displayName": "Win Htet",
      "userId": "03895928721449709279"
     },
     "user_tz": -390
    },
    "id": "xGaDbxv3d5qA",
    "outputId": "4b0eb425-3095-447c-e8fa-60303f5e465c"
   },
   "outputs": [
    {
     "name": "stdout",
     "output_type": "stream",
     "text": [
      "Accuracy Scores : \n",
      "RBF 0.8222\n",
      "Polynomial 0.8444\n",
      "Linear 0.9778\n"
     ]
    }
   ],
   "source": [
    "# importing SVM module\n",
    "from sklearn.svm import SVC\n",
    "\n",
    "svc_rbf = SVC(kernel='rbf') # kernel to be set RBF \n",
    "svc_poly = SVC(kernel='poly') # kernel to be set Polynomial\n",
    "svc_li = SVC(kernel='linear') # kernel to be set Linear\n",
    "\n",
    "# training the models\n",
    "svc_rbf.fit(X_train,y_train)\n",
    "svc_poly.fit(X_train,y_train)\n",
    "svc_li.fit(X_train,y_train)\n",
    "\n",
    "# testing the models\n",
    "y_predrbf = svc_rbf.predict(X_test) # RBF\n",
    "y_predpoly = svc_poly.predict(X_test) # Polynomial\n",
    "y_predlinear = svc_li.predict(X_test) # Linear\n",
    "\n",
    "# importing accuracy score\n",
    "from sklearn.metrics import accuracy_score\n",
    "\n",
    "print(\"Accuracy Scores : \")\n",
    "print(\"RBF\", round(accuracy_score(y_test, y_predrbf),4))\n",
    "print(\"Polynomial\", round(accuracy_score(y_test, y_predpoly),4))\n",
    "print(\"Linear\", round(accuracy_score(y_test, y_predlinear),4))"
   ]
  },
  {
   "cell_type": "code",
   "execution_count": 14,
   "metadata": {
    "colab": {
     "base_uri": "https://localhost:8080/",
     "height": 472
    },
    "executionInfo": {
     "elapsed": 2570,
     "status": "ok",
     "timestamp": 1681844407895,
     "user": {
      "displayName": "Win Htet",
      "userId": "03895928721449709279"
     },
     "user_tz": -390
    },
    "id": "7IrF4EX6lpU1",
    "outputId": "2c1385f2-3827-4426-e9fd-0537c958698c"
   },
   "outputs": [
    {
     "data": {
      "image/png": "[encoded data removed]",
      "text/plain": [
       "<Figure size 640x480 with 1 Axes>"
      ]
     },
     "metadata": {},
     "output_type": "display_data"
    }
   ],
   "source": [
    "# import some data to play with\n",
    "from sklearn import svm\n",
    "# we only take the first two features.\n",
    "X = df.data[:, :2]  \n",
    "y = df.target\n",
    "# create a mesh to plot in\n",
    "x_min, x_max = X[:, 0].min() - 1, X[:, 0].max() + 1\n",
    "y_min, y_max = X[:, 1].min() - 1, X[:, 1].max() + 1\n",
    "h = (x_max / x_min)/100\n",
    "xx, yy = np.meshgrid(np.arange(x_min, x_max, h),\n",
    " np.arange(y_min, y_max, h))\n",
    "# SVM regularization parameter\n",
    "C = 1.0 \n",
    "\n",
    "#kernel is set to be linear\n",
    "svc_l = svm.SVC(kernel='linear', C=1,gamma='auto').fit(X, y)\n",
    "#Ploting part\n",
    "plt.subplot(1, 1, 1)\n",
    "Z = svc_l.predict(np.c_[xx.ravel(), yy.ravel()])\n",
    "Z = Z.reshape(xx.shape)\n",
    "plt.contourf(xx, yy, Z, cmap= ListedColormap(('blue', 'green', 'gray')), alpha=0.8)\n",
    "plt.scatter(X[:, 0], X[:, 1], c = y, cmap=plt.cm.Paired)\n",
    "plt.xlabel('First_feature')\n",
    "plt.ylabel('Second_Feature')\n",
    "plt.xlim(xx.min(), xx.max())\n",
    "plt.title('SVC with linear kernel')\n",
    "plt.show()"
   ]
  },
  {
   "cell_type": "code",
   "execution_count": 15,
   "metadata": {
    "colab": {
     "base_uri": "https://localhost:8080/",
     "height": 472
    },
    "executionInfo": {
     "elapsed": 1044,
     "status": "ok",
     "timestamp": 1681844412046,
     "user": {
      "displayName": "Win Htet",
      "userId": "03895928721449709279"
     },
     "user_tz": -390
    },
    "id": "YC3AXs4XHeK8",
    "outputId": "039ac3df-8867-4e53-c19c-670b1865754a"
   },
   "outputs": [
    {
     "data": {
      "image/png": "[encoded data removed]",
      "text/plain": [
       "<Figure size 640x480 with 1 Axes>"
      ]
     },
     "metadata": {},
     "output_type": "display_data"
    }
   ],
   "source": [
    "# Kernel is set to be poly\n",
    "svc_p = svm.SVC(kernel='poly', C=1,gamma='auto').fit(X, y)\n",
    "#ploting part\n",
    "plt.subplot(1, 1, 1)\n",
    "Z = svc_p.predict(np.c_[xx.ravel(), yy.ravel()])\n",
    "Z = Z.reshape(xx.shape)\n",
    "plt.contourf(xx, yy, Z, cmap= ListedColormap(('blue', 'green', 'gray')), alpha=0.8)\n",
    "plt.scatter(X[:, 0], X[:, 1], c = y, cmap=plt.cm.Paired)\n",
    "plt.xlabel('First_feature')\n",
    "plt.ylabel('Second_Feature')\n",
    "plt.xlim(xx.min(), xx.max())\n",
    "plt.title('SVC with kernel poly')\n",
    "plt.show()"
   ]
  },
  {
   "cell_type": "code",
   "execution_count": 16,
   "metadata": {
    "colab": {
     "base_uri": "https://localhost:8080/",
     "height": 472
    },
    "executionInfo": {
     "elapsed": 1002,
     "status": "ok",
     "timestamp": 1681844416146,
     "user": {
      "displayName": "Win Htet",
      "userId": "03895928721449709279"
     },
     "user_tz": -390
    },
    "id": "jzirdcpoNvqt",
    "outputId": "c5744e69-3fab-492f-fb4c-0b1b294320b4"
   },
   "outputs": [
    {
     "data": {
      "image/png": "[encoded data removed]",
      "text/plain": [
       "<Figure size 640x480 with 1 Axes>"
      ]
     },
     "metadata": {},
     "output_type": "display_data"
    }
   ],
   "source": [
    "# Kernel is set to be rbf\n",
    "svc_rbf = svm.SVC(kernel='rbf', C=1,gamma='auto').fit(X, y)\n",
    "#ploting part\n",
    "plt.subplot(1, 1, 1)\n",
    "Z = svc_rbf.predict(np.c_[xx.ravel(), yy.ravel()])\n",
    "Z = Z.reshape(xx.shape)\n",
    "plt.contourf(xx, yy, Z, cmap= ListedColormap(('blue', 'green', 'gray')), alpha=0.8)\n",
    "plt.scatter(X[:, 0], X[:, 1], c = y, cmap=plt.cm.Paired)\n",
    "plt.xlabel('First_feature')\n",
    "plt.ylabel('Second_Feature')\n",
    "plt.xlim(xx.min(), xx.max())\n",
    "plt.title('SVC with kernel rbf')\n",
    "plt.show()"
   ]
  },
  {
   "cell_type": "markdown",
   "metadata": {
    "id": "xepQdz0JZolz"
   },
   "source": [
    "### Evaluation on SVM Models"
   ]
  },
  {
   "cell_type": "code",
   "execution_count": 17,
   "metadata": {
    "colab": {
     "base_uri": "https://localhost:8080/",
     "height": 452
    },
    "executionInfo": {
     "elapsed": 1336,
     "status": "ok",
     "timestamp": 1681844422165,
     "user": {
      "displayName": "Win Htet",
      "userId": "03895928721449709279"
     },
     "user_tz": -390
    },
    "id": "JkTTnq9eqIYc",
    "outputId": "6c8d2119-8856-43dc-bfa4-bb3b6cf7f6a9"
   },
   "outputs": [
    {
     "data": {
      "image/png": "[encoded data removed]",
      "text/plain": [
       "<Figure size 640x480 with 2 Axes>"
      ]
     },
     "metadata": {},
     "output_type": "display_data"
    }
   ],
   "source": [
    "# Importing the required modules\n",
    "import seaborn as sns\n",
    "from sklearn.metrics import confusion_matrix\n",
    "# passing actual and predicted values for RBF\n",
    "cm_rbf = confusion_matrix(y_test, y_predrbf)\n",
    "# true Write data values in each cell of the matrix\n",
    "sns.heatmap(cm_rbf,annot=True);\n",
    "plt.title(\"Confusion Matrix for SVC (RBF)\")\n",
    "plt.show();"
   ]
  },
  {
   "cell_type": "code",
   "execution_count": 18,
   "metadata": {
    "colab": {
     "base_uri": "https://localhost:8080/",
     "height": 452
    },
    "executionInfo": {
     "elapsed": 7,
     "status": "ok",
     "timestamp": 1681844425241,
     "user": {
      "displayName": "Win Htet",
      "userId": "03895928721449709279"
     },
     "user_tz": -390
    },
    "id": "fvfJ6d9PT8iO",
    "outputId": "6d23baee-d509-4980-f940-eb8435e460e0"
   },
   "outputs": [
    {
     "data": {
      "image/png": "[encoded data removed]",
      "text/plain": [
       "<Figure size 640x480 with 2 Axes>"
      ]
     },
     "metadata": {},
     "output_type": "display_data"
    }
   ],
   "source": [
    "# passing actual and predicted values for Polynomial\n",
    "cm_poly = confusion_matrix(y_test, y_predpoly)\n",
    "# true Write data values in each cell of the matrix\n",
    "sns.heatmap(cm_poly,annot=True);\n",
    "plt.title(\"Confusion Matrix for SVC (Poly)\")\n",
    "plt.show();"
   ]
  },
  {
   "cell_type": "code",
   "execution_count": 19,
   "metadata": {
    "colab": {
     "base_uri": "https://localhost:8080/",
     "height": 452
    },
    "executionInfo": {
     "elapsed": 7,
     "status": "ok",
     "timestamp": 1681844428853,
     "user": {
      "displayName": "Win Htet",
      "userId": "03895928721449709279"
     },
     "user_tz": -390
    },
    "id": "uYwW3Kp-UKM5",
    "outputId": "bace31a2-dca6-4344-b804-70cee478eb7c"
   },
   "outputs": [
    {
     "data": {
      "image/png": "[encoded data removed]",
      "text/plain": [
       "<Figure size 640x480 with 2 Axes>"
      ]
     },
     "metadata": {},
     "output_type": "display_data"
    }
   ],
   "source": [
    "# passing actual and predicted values for Linear\n",
    "cm_linear = confusion_matrix(y_test, y_predlinear)\n",
    "# true Write data values in each cell of the matrix\n",
    "sns.heatmap(cm_linear,annot=True);\n",
    "plt.title(\"Confusion Matrix for SVC (Linear)\")\n",
    "plt.show();"
   ]
  },
  {
   "cell_type": "code",
   "execution_count": 20,
   "metadata": {
    "colab": {
     "base_uri": "https://localhost:8080/"
    },
    "executionInfo": {
     "elapsed": 5,
     "status": "ok",
     "timestamp": 1681844432468,
     "user": {
      "displayName": "Win Htet",
      "userId": "03895928721449709279"
     },
     "user_tz": -390
    },
    "id": "LE_lwTfvS6Qe",
    "outputId": "c6a64584-1407-430a-847c-497fef5b272b"
   },
   "outputs": [
    {
     "name": "stdout",
     "output_type": "stream",
     "text": [
      "Classification Report for RBF\n",
      "              precision    recall  f1-score   support\n",
      "\n",
      "           0       1.00      0.94      0.97        16\n",
      "           1       0.85      0.81      0.83        21\n",
      "           2       0.50      0.62      0.56         8\n",
      "\n",
      "    accuracy                           0.82        45\n",
      "   macro avg       0.78      0.79      0.78        45\n",
      "weighted avg       0.84      0.82      0.83        45\n",
      "\n",
      "Classification Report for Polynomial\n",
      "              precision    recall  f1-score   support\n",
      "\n",
      "           0       1.00      0.88      0.93        16\n",
      "           1       0.81      1.00      0.89        21\n",
      "           2       0.60      0.38      0.46         8\n",
      "\n",
      "    accuracy                           0.84        45\n",
      "   macro avg       0.80      0.75      0.76        45\n",
      "weighted avg       0.84      0.84      0.83        45\n",
      "\n",
      "Classification Report for Linear\n",
      "              precision    recall  f1-score   support\n",
      "\n",
      "           0       1.00      1.00      1.00        16\n",
      "           1       1.00      0.95      0.98        21\n",
      "           2       0.89      1.00      0.94         8\n",
      "\n",
      "    accuracy                           0.98        45\n",
      "   macro avg       0.96      0.98      0.97        45\n",
      "weighted avg       0.98      0.98      0.98        45\n",
      "\n"
     ]
    }
   ],
   "source": [
    "# Importing classification report\n",
    "from sklearn.metrics import classification_report\n",
    "# printing the report\n",
    "print(\"Classification Report for RBF\")\n",
    "print(classification_report(y_test, y_predrbf))\n",
    "print(\"Classification Report for Polynomial\")\n",
    "print(classification_report(y_test, y_predpoly))\n",
    "print(\"Classification Report for Linear\")\n",
    "print(classification_report(y_test, y_predlinear))"
   ]
  },
  {
   "cell_type": "code",
   "execution_count": 21,
   "metadata": {
    "colab": {
     "base_uri": "https://localhost:8080/",
     "height": 1000
    },
    "executionInfo": {
     "elapsed": 2506,
     "status": "ok",
     "timestamp": 1681844437798,
     "user": {
      "displayName": "Win Htet",
      "userId": "03895928721449709279"
     },
     "user_tz": -390
    },
    "id": "8-4cNw5qvRNH",
    "outputId": "af4b51ef-3be2-4668-cdbe-8eb40061b304"
   },
   "outputs": [
    {
     "name": "stdout",
     "output_type": "stream",
     "text": [
      "Fitting 5 folds for each of 18 candidates, totalling 90 fits\n",
      "[CV 1/5] END ...............C=0.001, kernel=rbf;, score=0.370 total time=   0.0s\n",
      "[CV 2/5] END ...............C=0.001, kernel=rbf;, score=0.370 total time=   0.0s\n",
      "[CV 3/5] END ...............C=0.001, kernel=rbf;, score=0.370 total time=   0.0s\n",
      "[CV 4/5] END ...............C=0.001, kernel=rbf;, score=0.385 total time=   0.0s\n",
      "[CV 5/5] END ...............C=0.001, kernel=rbf;, score=0.385 total time=   0.0s\n",
      "[CV 1/5] END ............C=0.001, kernel=linear;, score=0.741 total time=   0.0s\n",
      "[CV 2/5] END ............C=0.001, kernel=linear;, score=0.778 total time=   0.0s\n",
      "[CV 3/5] END ............C=0.001, kernel=linear;, score=0.852 total time=   0.0s\n",
      "[CV 4/5] END ............C=0.001, kernel=linear;, score=0.769 total time=   0.0s\n",
      "[CV 5/5] END ............C=0.001, kernel=linear;, score=0.731 total time=   0.0s\n",
      "[CV 1/5] END ..........C=0.001, kernel=polynomial;, score=nan total time=   0.0s\n",
      "[CV 2/5] END ..........C=0.001, kernel=polynomial;, score=nan total time=   0.0s\n",
      "[CV 3/5] END ..........C=0.001, kernel=polynomial;, score=nan total time=   0.0s\n",
      "[CV 4/5] END ..........C=0.001, kernel=polynomial;, score=nan total time=   0.0s\n",
      "[CV 5/5] END ..........C=0.001, kernel=polynomial;, score=nan total time=   0.0s\n",
      "[CV 1/5] END ................C=0.01, kernel=rbf;, score=0.370 total time=   0.0s\n",
      "[CV 2/5] END ................C=0.01, kernel=rbf;, score=0.370 total time=   0.0s\n",
      "[CV 3/5] END ................C=0.01, kernel=rbf;, score=0.370 total time=   0.0s\n",
      "[CV 4/5] END ................C=0.01, kernel=rbf;, score=0.385 total time=   0.0s\n",
      "[CV 5/5] END ................C=0.01, kernel=rbf;, score=0.385 total time=   0.0s\n",
      "[CV 1/5] END .............C=0.01, kernel=linear;, score=0.778 total time=   0.0s\n",
      "[CV 2/5] END .............C=0.01, kernel=linear;, score=0.926 total time=   0.0s\n",
      "[CV 3/5] END .............C=0.01, kernel=linear;, score=0.926 total time=   0.0s\n",
      "[CV 4/5] END .............C=0.01, kernel=linear;, score=0.962 total time=   0.0s\n",
      "[CV 5/5] END .............C=0.01, kernel=linear;, score=0.846 total time=   0.0s\n",
      "[CV 1/5] END ...........C=0.01, kernel=polynomial;, score=nan total time=   0.0s\n",
      "[CV 2/5] END ...........C=0.01, kernel=polynomial;, score=nan total time=   0.0s\n",
      "[CV 3/5] END ...........C=0.01, kernel=polynomial;, score=nan total time=   0.0s\n",
      "[CV 4/5] END ...........C=0.01, kernel=polynomial;, score=nan total time=   0.0s\n",
      "[CV 5/5] END ...........C=0.01, kernel=polynomial;, score=nan total time=   0.0s\n",
      "[CV 1/5] END .................C=0.1, kernel=rbf;, score=0.556 total time=   0.0s\n",
      "[CV 2/5] END .................C=0.1, kernel=rbf;, score=0.630 total time=   0.0s\n",
      "[CV 3/5] END .................C=0.1, kernel=rbf;, score=0.704 total time=   0.0s\n",
      "[CV 4/5] END .................C=0.1, kernel=rbf;, score=0.692 total time=   0.0s\n",
      "[CV 5/5] END .................C=0.1, kernel=rbf;, score=0.538 total time=   0.0s\n",
      "[CV 1/5] END ..............C=0.1, kernel=linear;, score=0.926 total time=   0.0s\n",
      "[CV 2/5] END ..............C=0.1, kernel=linear;, score=0.963 total time=   0.0s\n",
      "[CV 3/5] END ..............C=0.1, kernel=linear;, score=0.963 total time=   0.1s\n",
      "[CV 4/5] END ..............C=0.1, kernel=linear;, score=1.000 total time=   0.1s\n",
      "[CV 5/5] END ..............C=0.1, kernel=linear;, score=0.962 total time=   0.0s\n",
      "[CV 1/5] END ............C=0.1, kernel=polynomial;, score=nan total time=   0.0s\n",
      "[CV 2/5] END ............C=0.1, kernel=polynomial;, score=nan total time=   0.0s\n",
      "[CV 3/5] END ............C=0.1, kernel=polynomial;, score=nan total time=   0.0s\n",
      "[CV 4/5] END ............C=0.1, kernel=polynomial;, score=nan total time=   0.0s\n",
      "[CV 5/5] END ............C=0.1, kernel=polynomial;, score=nan total time=   0.0s\n",
      "[CV 1/5] END ...................C=1, kernel=rbf;, score=0.593 total time=   0.0s\n",
      "[CV 2/5] END ...................C=1, kernel=rbf;, score=0.704 total time=   0.0s\n",
      "[CV 3/5] END ...................C=1, kernel=rbf;, score=0.741 total time=   0.0s\n",
      "[CV 4/5] END ...................C=1, kernel=rbf;, score=0.654 total time=   0.0s\n",
      "[CV 5/5] END ...................C=1, kernel=rbf;, score=0.692 total time=   0.0s\n",
      "[CV 1/5] END ................C=1, kernel=linear;, score=0.926 total time=   0.1s\n",
      "[CV 2/5] END ................C=1, kernel=linear;, score=0.963 total time=   0.1s\n",
      "[CV 3/5] END ................C=1, kernel=linear;, score=0.963 total time=   0.1s\n",
      "[CV 4/5] END ................C=1, kernel=linear;, score=1.000 total time=   0.1s\n",
      "[CV 5/5] END ................C=1, kernel=linear;, score=0.962 total time=   0.1s\n",
      "[CV 1/5] END ..............C=1, kernel=polynomial;, score=nan total time=   0.0s\n",
      "[CV 2/5] END ..............C=1, kernel=polynomial;, score=nan total time=   0.0s\n",
      "[CV 3/5] END ..............C=1, kernel=polynomial;, score=nan total time=   0.0s\n",
      "[CV 4/5] END ..............C=1, kernel=polynomial;, score=nan total time=   0.0s\n",
      "[CV 5/5] END ..............C=1, kernel=polynomial;, score=nan total time=   0.0s\n",
      "[CV 1/5] END ..................C=10, kernel=rbf;, score=0.593 total time=   0.0s\n",
      "[CV 2/5] END ..................C=10, kernel=rbf;, score=0.667 total time=   0.0s\n",
      "[CV 3/5] END ..................C=10, kernel=rbf;, score=0.741 total time=   0.0s\n",
      "[CV 4/5] END ..................C=10, kernel=rbf;, score=0.846 total time=   0.0s\n",
      "[CV 5/5] END ..................C=10, kernel=rbf;, score=0.692 total time=   0.0s\n",
      "[CV 1/5] END ...............C=10, kernel=linear;, score=0.889 total time=   0.2s\n",
      "[CV 2/5] END ...............C=10, kernel=linear;, score=0.963 total time=   0.1s\n",
      "[CV 3/5] END ...............C=10, kernel=linear;, score=0.963 total time=   0.1s\n",
      "[CV 4/5] END ...............C=10, kernel=linear;, score=1.000 total time=   0.2s\n",
      "[CV 5/5] END ...............C=10, kernel=linear;, score=0.962 total time=   0.1s\n",
      "[CV 1/5] END .............C=10, kernel=polynomial;, score=nan total time=   0.0s\n",
      "[CV 2/5] END .............C=10, kernel=polynomial;, score=nan total time=   0.0s\n",
      "[CV 3/5] END .............C=10, kernel=polynomial;, score=nan total time=   0.0s\n",
      "[CV 4/5] END .............C=10, kernel=polynomial;, score=nan total time=   0.0s\n",
      "[CV 5/5] END .............C=10, kernel=polynomial;, score=nan total time=   0.0s\n",
      "[CV 1/5] END .................C=100, kernel=rbf;, score=0.704 total time=   0.0s\n",
      "[CV 2/5] END .................C=100, kernel=rbf;, score=0.704 total time=   0.0s\n",
      "[CV 3/5] END .................C=100, kernel=rbf;, score=0.778 total time=   0.0s\n",
      "[CV 4/5] END .................C=100, kernel=rbf;, score=0.808 total time=   0.0s\n",
      "[CV 5/5] END .................C=100, kernel=rbf;, score=0.731 total time=   0.0s\n",
      "[CV 1/5] END ..............C=100, kernel=linear;, score=0.889 total time=   0.2s\n",
      "[CV 2/5] END ..............C=100, kernel=linear;, score=0.963 total time=   0.1s\n",
      "[CV 3/5] END ..............C=100, kernel=linear;, score=0.963 total time=   0.2s\n",
      "[CV 4/5] END ..............C=100, kernel=linear;, score=1.000 total time=   0.3s\n",
      "[CV 5/5] END ..............C=100, kernel=linear;, score=0.962 total time=   0.1s\n",
      "[CV 1/5] END ............C=100, kernel=polynomial;, score=nan total time=   0.0s\n",
      "[CV 2/5] END ............C=100, kernel=polynomial;, score=nan total time=   0.0s\n",
      "[CV 3/5] END ............C=100, kernel=polynomial;, score=nan total time=   0.0s\n",
      "[CV 4/5] END ............C=100, kernel=polynomial;, score=nan total time=   0.0s\n",
      "[CV 5/5] END ............C=100, kernel=polynomial;, score=nan total time=   0.0s\n"
     ]
    },
    {
     "data": {
      "text/html": [
       "<style>#sk-container-id-1 {color: black;background-color: white;}#sk-container-id-1 pre{padding: 0;}#sk-container-id-1 div.sk-toggleable {background-color: white;}#sk-container-id-1 label.sk-toggleable__label {cursor: pointer;display: block;width: 100%;margin-bottom: 0;padding: 0.3em;box-sizing: border-box;text-align: center;}#sk-container-id-1 label.sk-toggleable__label-arrow:before {content: \"▸\";float: left;margin-right: 0.25em;color: #696969;}#sk-container-id-1 label.sk-toggleable__label-arrow:hover:before {color: black;}#sk-container-id-1 div.sk-estimator:hover label.sk-toggleable__label-arrow:before {color: black;}#sk-container-id-1 div.sk-toggleable__content {max-height: 0;max-width: 0;overflow: hidden;text-align: left;background-color: #f0f8ff;}#sk-container-id-1 div.sk-toggleable__content pre {margin: 0.2em;color: black;border-radius: 0.25em;background-color: #f0f8ff;}#sk-container-id-1 input.sk-toggleable__control:checked~div.sk-toggleable__content {max-height: 200px;max-width: 100%;overflow: auto;}#sk-container-id-1 input.sk-toggleable__control:checked~label.sk-toggleable__label-arrow:before {content: \"▾\";}#sk-container-id-1 div.sk-estimator input.sk-toggleable__control:checked~label.sk-toggleable__label {background-color: #d4ebff;}#sk-container-id-1 div.sk-label input.sk-toggleable__control:checked~label.sk-toggleable__label {background-color: #d4ebff;}#sk-container-id-1 input.sk-hidden--visually {border: 0;clip: rect(1px 1px 1px 1px);clip: rect(1px, 1px, 1px, 1px);height: 1px;margin: -1px;overflow: hidden;padding: 0;position: absolute;width: 1px;}#sk-container-id-1 div.sk-estimator {font-family: monospace;background-color: #f0f8ff;border: 1px dotted black;border-radius: 0.25em;box-sizing: border-box;margin-bottom: 0.5em;}#sk-container-id-1 div.sk-estimator:hover {background-color: #d4ebff;}#sk-container-id-1 div.sk-parallel-item::after {content: \"\";width: 100%;border-bottom: 1px solid gray;flex-grow: 1;}#sk-container-id-1 div.sk-label:hover label.sk-toggleable__label {background-color: #d4ebff;}#sk-container-id-1 div.sk-serial::before {content: \"\";position: absolute;border-left: 1px solid gray;box-sizing: border-box;top: 0;bottom: 0;left: 50%;z-index: 0;}#sk-container-id-1 div.sk-serial {display: flex;flex-direction: column;align-items: center;background-color: white;padding-right: 0.2em;padding-left: 0.2em;position: relative;}#sk-container-id-1 div.sk-item {position: relative;z-index: 1;}#sk-container-id-1 div.sk-parallel {display: flex;align-items: stretch;justify-content: center;background-color: white;position: relative;}#sk-container-id-1 div.sk-item::before, #sk-container-id-1 div.sk-parallel-item::before {content: \"\";position: absolute;border-left: 1px solid gray;box-sizing: border-box;top: 0;bottom: 0;left: 50%;z-index: -1;}#sk-container-id-1 div.sk-parallel-item {display: flex;flex-direction: column;z-index: 1;position: relative;background-color: white;}#sk-container-id-1 div.sk-parallel-item:first-child::after {align-self: flex-end;width: 50%;}#sk-container-id-1 div.sk-parallel-item:last-child::after {align-self: flex-start;width: 50%;}#sk-container-id-1 div.sk-parallel-item:only-child::after {width: 0;}#sk-container-id-1 div.sk-dashed-wrapped {border: 1px dashed gray;margin: 0 0.4em 0.5em 0.4em;box-sizing: border-box;padding-bottom: 0.4em;background-color: white;}#sk-container-id-1 div.sk-label label {font-family: monospace;font-weight: bold;display: inline-block;line-height: 1.2em;}#sk-container-id-1 div.sk-label-container {text-align: center;}#sk-container-id-1 div.sk-container {/* jupyter's `normalize.less` sets `[hidden] { display: none; }` but bootstrap.min.css set `[hidden] { display: none !important; }` so we also need the `!important` here to be able to override the default hidden behavior on the sphinx rendered scikit-learn.org. See: https://github.com/scikit-learn/scikit-learn/issues/21755 */display: inline-block !important;position: relative;}#sk-container-id-1 div.sk-text-repr-fallback {display: none;}</style><div id=\"sk-container-id-1\" class=\"sk-top-container\"><div class=\"sk-text-repr-fallback\"><pre>GridSearchCV(cv=5, estimator=SVC(),\n",
       "             param_grid={&#x27;C&#x27;: [0.001, 0.01, 0.1, 1, 10, 100],\n",
       "                         &#x27;kernel&#x27;: [&#x27;rbf&#x27;, &#x27;linear&#x27;, &#x27;polynomial&#x27;]},\n",
       "             verbose=3)</pre><b>In a Jupyter environment, please rerun this cell to show the HTML representation or trust the notebook. <br />On GitHub, the HTML representation is unable to render, please try loading this page with nbviewer.org.</b></div><div class=\"sk-container\" hidden><div class=\"sk-item sk-dashed-wrapped\"><div class=\"sk-label-container\"><div class=\"sk-label sk-toggleable\"><input class=\"sk-toggleable__control sk-hidden--visually\" id=\"sk-estimator-id-1\" type=\"checkbox\" ><label for=\"sk-estimator-id-1\" class=\"sk-toggleable__label sk-toggleable__label-arrow\">GridSearchCV</label><div class=\"sk-toggleable__content\"><pre>GridSearchCV(cv=5, estimator=SVC(),\n",
       "             param_grid={&#x27;C&#x27;: [0.001, 0.01, 0.1, 1, 10, 100],\n",
       "                         &#x27;kernel&#x27;: [&#x27;rbf&#x27;, &#x27;linear&#x27;, &#x27;polynomial&#x27;]},\n",
       "             verbose=3)</pre></div></div></div><div class=\"sk-parallel\"><div class=\"sk-parallel-item\"><div class=\"sk-item\"><div class=\"sk-label-container\"><div class=\"sk-label sk-toggleable\"><input class=\"sk-toggleable__control sk-hidden--visually\" id=\"sk-estimator-id-2\" type=\"checkbox\" ><label for=\"sk-estimator-id-2\" class=\"sk-toggleable__label sk-toggleable__label-arrow\">estimator: SVC</label><div class=\"sk-toggleable__content\"><pre>SVC()</pre></div></div></div><div class=\"sk-serial\"><div class=\"sk-item\"><div class=\"sk-estimator sk-toggleable\"><input class=\"sk-toggleable__control sk-hidden--visually\" id=\"sk-estimator-id-3\" type=\"checkbox\" ><label for=\"sk-estimator-id-3\" class=\"sk-toggleable__label sk-toggleable__label-arrow\">SVC</label><div class=\"sk-toggleable__content\"><pre>SVC()</pre></div></div></div></div></div></div></div></div></div></div>"
      ],
      "text/plain": [
       "GridSearchCV(cv=5, estimator=SVC(),\n",
       "             param_grid={'C': [0.001, 0.01, 0.1, 1, 10, 100],\n",
       "                         'kernel': ['rbf', 'linear', 'polynomial']},\n",
       "             verbose=3)"
      ]
     },
     "execution_count": 21,
     "metadata": {},
     "output_type": "execute_result"
    }
   ],
   "source": [
    "# defining parameter range\n",
    "param_grid = {\n",
    "    \"C\": [0.001, 0.01, 0.1, 1, 10, 100],\n",
    "    #               'gamma': [1, 0.1, 0.01, 0.001, 0.0001],\n",
    "    \"kernel\": [\"rbf\", \"linear\", \"polynomial\"],\n",
    "}\n",
    "\n",
    "grid = GridSearchCV(svm.SVC(), param_grid, refit=True, verbose=3, cv=5)\n",
    "\n",
    "# fitting the model for grid search\n",
    "grid.fit(X_train, y_train)"
   ]
  },
  {
   "cell_type": "code",
   "execution_count": 22,
   "metadata": {
    "colab": {
     "base_uri": "https://localhost:8080/"
    },
    "executionInfo": {
     "elapsed": 4,
     "status": "ok",
     "timestamp": 1681844444078,
     "user": {
      "displayName": "Win Htet",
      "userId": "03895928721449709279"
     },
     "user_tz": -390
    },
    "id": "cuf7Tg1tvUx3",
    "outputId": "3a864d5d-35fc-49ee-fd40-ce6239d0fb67"
   },
   "outputs": [
    {
     "name": "stdout",
     "output_type": "stream",
     "text": [
      "{'C': 0.1, 'kernel': 'linear'}\n",
      "SVC(C=0.1, kernel='linear')\n"
     ]
    }
   ],
   "source": [
    "# print best parameter after tuning\n",
    "print(grid.best_params_)\n",
    "\n",
    "# print how our model looks after hyper-parameter tuning\n",
    "print(grid.best_estimator_)"
   ]
  },
  {
   "cell_type": "markdown",
   "metadata": {
    "id": "IeTRM1IBylqP"
   },
   "source": [
    "## $\\underline{Neural \\  Networks}$ "
   ]
  },
  {
   "cell_type": "markdown",
   "metadata": {
    "id": "SIAEEDViyzKI"
   },
   "source": [
    "Information about the input dataset - Predict whether income exceeds $50K/yr based on census data\n",
    "\n",
    "The dataset used is US Census data which is an extraction of the 1994 census data which was donated to the UC Irvine’s Machine Learning Repository. The data contains approximately 32,000 observations with over 15 variables. The dependent variable in our analysis will be income level and who earns above $50,000 a year"
   ]
  },
  {
   "cell_type": "code",
   "execution_count": 23,
   "metadata": {
    "executionInfo": {
     "elapsed": 4501,
     "status": "ok",
     "timestamp": 1681844454429,
     "user": {
      "displayName": "Win Htet",
      "userId": "03895928721449709279"
     },
     "user_tz": -390
    },
    "id": "SrKdx_LwzD03"
   },
   "outputs": [],
   "source": [
    "# general \n",
    "import pandas as pd\n",
    "import numpy as np\n",
    "import logging\n",
    "import matplotlib.pyplot as plt\n",
    "\n",
    "# tensorflow\n",
    "import tensorflow as tf\n",
    "from tensorflow import keras\n",
    "from tensorflow.keras.layers import Dense, Dropout\n",
    "from tensorflow.keras.wrappers.scikit_learn import KerasClassifier\n",
    "\n",
    "tf.get_logger().setLevel(logging.ERROR)\n",
    "\n",
    "# model evaluation\n",
    "from sklearn.metrics import (\n",
    "    accuracy_score,\n",
    "    brier_score_loss,\n",
    "    classification_report,\n",
    "    cohen_kappa_score,\n",
    "    f1_score,\n",
    "    precision_score,\n",
    "    recall_score,\n",
    "    roc_auc_score,\n",
    "    roc_curve\n",
    ")\n",
    "\n",
    "# machine learning\n",
    "from sklearn.model_selection import train_test_split"
   ]
  },
  {
   "cell_type": "code",
   "execution_count": 24,
   "metadata": {
    "executionInfo": {
     "elapsed": 406,
     "status": "ok",
     "timestamp": 1681844459026,
     "user": {
      "displayName": "Win Htet",
      "userId": "03895928721449709279"
     },
     "user_tz": -390
    },
    "id": "JIIqkyEDzSOv"
   },
   "outputs": [],
   "source": [
    "# Load the loan data\n",
    "colnames=['age', 'workclass', 'fnlwgt', 'education','education_num', 'marital_status','occupation','relationship','race','sex','capital_gain','capital_loss','hours_per_week','native_country','target'] \n"
   ]
  },
  {
   "cell_type": "code",
   "execution_count": 25,
   "metadata": {
    "colab": {
     "base_uri": "https://localhost:8080/",
     "height": 74
    },
    "executionInfo": {
     "elapsed": 62523,
     "status": "ok",
     "timestamp": 1681844523946,
     "user": {
      "displayName": "Win Htet",
      "userId": "03895928721449709279"
     },
     "user_tz": -390
    },
    "id": "tyoaVovwzY5X",
    "outputId": "5199d009-9b25-4d31-fa48-ce322354e3de"
   },
   "outputs": [
    {
     "data": {
      "text/html": [
       "\n",
       "     <input type=\"file\" id=\"files-726087c9-077d-4a04-8224-db0e8a223a13\" name=\"files[]\" multiple disabled\n",
       "        style=\"border:none\" />\n",
       "     <output id=\"result-726087c9-077d-4a04-8224-db0e8a223a13\">\n",
       "      Upload widget is only available when the cell has been executed in the\n",
       "      current browser session. Please rerun this cell to enable.\n",
       "      </output>\n",
       "      <script>// Copyright 2017 Google LLC\n",
       "//\n",
       "// Licensed under the Apache License, Version 2.0 (the \"License\");\n",
       "// you may not use this file except in compliance with the License.\n",
       "// You may obtain a copy of the License at\n",
       "//\n",
       "//      http://www.apache.org/licenses/LICENSE-2.0\n",
       "//\n",
       "// Unless required by applicable law or agreed to in writing, software\n",
       "// distributed under the License is distributed on an \"AS IS\" BASIS,\n",
       "// WITHOUT WARRANTIES OR CONDITIONS OF ANY KIND, either express or implied.\n",
       "// See the License for the specific language governing permissions and\n",
       "// limitations under the License.\n",
       "\n",
       "/**\n",
       " * @fileoverview Helpers for google.colab Python module.\n",
       " */\n",
       "(function(scope) {\n",
       "function span(text, styleAttributes = {}) {\n",
       "  const element = document.createElement('span');\n",
       "  element.textContent = text;\n",
       "  for (const key of Object.keys(styleAttributes)) {\n",
       "    element.style[key] = styleAttributes[key];\n",
       "  }\n",
       "  return element;\n",
       "}\n",
       "\n",
       "// Max number of bytes which will be uploaded at a time.\n",
       "const MAX_PAYLOAD_SIZE = 100 * 1024;\n",
       "\n",
       "function _uploadFiles(inputId, outputId) {\n",
       "  const steps = uploadFilesStep(inputId, outputId);\n",
       "  const outputElement = document.getElementById(outputId);\n",
       "  // Cache steps on the outputElement to make it available for the next call\n",
       "  // to uploadFilesContinue from Python.\n",
       "  outputElement.steps = steps;\n",
       "\n",
       "  return _uploadFilesContinue(outputId);\n",
       "}\n",
       "\n",
       "// This is roughly an async generator (not supported in the browser yet),\n",
       "// where there are multiple asynchronous steps and the Python side is going\n",
       "// to poll for completion of each step.\n",
       "// This uses a Promise to block the python side on completion of each step,\n",
       "// then passes the result of the previous step as the input to the next step.\n",
       "function _uploadFilesContinue(outputId) {\n",
       "  const outputElement = document.getElementById(outputId);\n",
       "  const steps = outputElement.steps;\n",
       "\n",
       "  const next = steps.next(outputElement.lastPromiseValue);\n",
       "  return Promise.resolve(next.value.promise).then((value) => {\n",
       "    // Cache the last promise value to make it available to the next\n",
       "    // step of the generator.\n",
       "    outputElement.lastPromiseValue = value;\n",
       "    return next.value.response;\n",
       "  });\n",
       "}\n",
       "\n",
       "/**\n",
       " * Generator function which is called between each async step of the upload\n",
       " * process.\n",
       " * @param {string} inputId Element ID of the input file picker element.\n",
       " * @param {string} outputId Element ID of the output display.\n",
       " * @return {!Iterable<!Object>} Iterable of next steps.\n",
       " */\n",
       "function* uploadFilesStep(inputId, outputId) {\n",
       "  const inputElement = document.getElementById(inputId);\n",
       "  inputElement.disabled = false;\n",
       "\n",
       "  const outputElement = document.getElementById(outputId);\n",
       "  outputElement.innerHTML = '';\n",
       "\n",
       "  const pickedPromise = new Promise((resolve) => {\n",
       "    inputElement.addEventListener('change', (e) => {\n",
       "      resolve(e.target.files);\n",
       "    });\n",
       "  });\n",
       "\n",
       "  const cancel = document.createElement('button');\n",
       "  inputElement.parentElement.appendChild(cancel);\n",
       "  cancel.textContent = 'Cancel upload';\n",
       "  const cancelPromise = new Promise((resolve) => {\n",
       "    cancel.onclick = () => {\n",
       "      resolve(null);\n",
       "    };\n",
       "  });\n",
       "\n",
       "  // Wait for the user to pick the files.\n",
       "  const files = yield {\n",
       "    promise: Promise.race([pickedPromise, cancelPromise]),\n",
       "    response: {\n",
       "      action: 'starting',\n",
       "    }\n",
       "  };\n",
       "\n",
       "  cancel.remove();\n",
       "\n",
       "  // Disable the input element since further picks are not allowed.\n",
       "  inputElement.disabled = true;\n",
       "\n",
       "  if (!files) {\n",
       "    return {\n",
       "      response: {\n",
       "        action: 'complete',\n",
       "      }\n",
       "    };\n",
       "  }\n",
       "\n",
       "  for (const file of files) {\n",
       "    const li = document.createElement('li');\n",
       "    li.append(span(file.name, {fontWeight: 'bold'}));\n",
       "    li.append(span(\n",
       "        `(${file.type || 'n/a'}) - ${file.size} bytes, ` +\n",
       "        `last modified: ${\n",
       "            file.lastModifiedDate ? file.lastModifiedDate.toLocaleDateString() :\n",
       "                                    'n/a'} - `));\n",
       "    const percent = span('0% done');\n",
       "    li.appendChild(percent);\n",
       "\n",
       "    outputElement.appendChild(li);\n",
       "\n",
       "    const fileDataPromise = new Promise((resolve) => {\n",
       "      const reader = new FileReader();\n",
       "      reader.onload = (e) => {\n",
       "        resolve(e.target.result);\n",
       "      };\n",
       "      reader.readAsArrayBuffer(file);\n",
       "    });\n",
       "    // Wait for the data to be ready.\n",
       "    let fileData = yield {\n",
       "      promise: fileDataPromise,\n",
       "      response: {\n",
       "        action: 'continue',\n",
       "      }\n",
       "    };\n",
       "\n",
       "    // Use a chunked sending to avoid message size limits. See b/62115660.\n",
       "    let position = 0;\n",
       "    do {\n",
       "      const length = Math.min(fileData.byteLength - position, MAX_PAYLOAD_SIZE);\n",
       "      const chunk = new Uint8Array(fileData, position, length);\n",
       "      position += length;\n",
       "\n",
       "      const base64 = btoa(String.fromCharCode.apply(null, chunk));\n",
       "      yield {\n",
       "        response: {\n",
       "          action: 'append',\n",
       "          file: file.name,\n",
       "          data: base64,\n",
       "        },\n",
       "      };\n",
       "\n",
       "      let percentDone = fileData.byteLength === 0 ?\n",
       "          100 :\n",
       "          Math.round((position / fileData.byteLength) * 100);\n",
       "      percent.textContent = `${percentDone}% done`;\n",
       "\n",
       "    } while (position < fileData.byteLength);\n",
       "  }\n",
       "\n",
       "  // All done.\n",
       "  yield {\n",
       "    response: {\n",
       "      action: 'complete',\n",
       "    }\n",
       "  };\n",
       "}\n",
       "\n",
       "scope.google = scope.google || {};\n",
       "scope.google.colab = scope.google.colab || {};\n",
       "scope.google.colab._files = {\n",
       "  _uploadFiles,\n",
       "  _uploadFilesContinue,\n",
       "};\n",
       "})(self);\n",
       "</script> "
      ],
      "text/plain": [
       "<IPython.core.display.HTML object>"
      ]
     },
     "metadata": {},
     "output_type": "display_data"
    },
    {
     "name": "stdout",
     "output_type": "stream",
     "text": [
      "Saving Adult Data.csv to Adult Data (1).csv\n"
     ]
    }
   ],
   "source": [
    "from google.colab import files\n",
    "uploaded = files.upload()"
   ]
  },
  {
   "cell_type": "code",
   "execution_count": 26,
   "metadata": {
    "executionInfo": {
     "elapsed": 550,
     "status": "ok",
     "timestamp": 1681844768209,
     "user": {
      "displayName": "Win Htet",
      "userId": "03895928721449709279"
     },
     "user_tz": -390
    },
    "id": "GmRXzCjEzc46"
   },
   "outputs": [],
   "source": [
    "import io\n",
    "data = pd.read_csv(io.BytesIO(uploaded['Adult Data.csv']), names=colnames, header=None, index_col=False)\n",
    "# Dataset is now stored in a Pandas Dataframe\n",
    "\n",
    "data['target'] = np.where(data.target == ' <=50K', 0, 1)"
   ]
  },
  {
   "cell_type": "code",
   "execution_count": 27,
   "metadata": {
    "colab": {
     "base_uri": "https://localhost:8080/",
     "height": 339
    },
    "executionInfo": {
     "elapsed": 587,
     "status": "ok",
     "timestamp": 1681844771395,
     "user": {
      "displayName": "Win Htet",
      "userId": "03895928721449709279"
     },
     "user_tz": -390
    },
    "id": "KTtv_uiX0Zhc",
    "outputId": "6d01e903-85c6-484a-ed05-ca8d8ee59856"
   },
   "outputs": [
    {
     "data": {
      "text/html": [
       "\n",
       "  <div id=\"df-d4b64768-6ba0-4049-85b9-a5f748e3d473\">\n",
       "    <div class=\"colab-df-container\">\n",
       "      <div>\n",
       "<style scoped>\n",
       "    .dataframe tbody tr th:only-of-type {\n",
       "        vertical-align: middle;\n",
       "    }\n",
       "\n",
       "    .dataframe tbody tr th {\n",
       "        vertical-align: top;\n",
       "    }\n",
       "\n",
       "    .dataframe thead th {\n",
       "        text-align: right;\n",
       "    }\n",
       "</style>\n",
       "<table border=\"1\" class=\"dataframe\">\n",
       "  <thead>\n",
       "    <tr style=\"text-align: right;\">\n",
       "      <th></th>\n",
       "      <th>age</th>\n",
       "      <th>workclass</th>\n",
       "      <th>fnlwgt</th>\n",
       "      <th>education</th>\n",
       "      <th>education_num</th>\n",
       "      <th>marital_status</th>\n",
       "      <th>occupation</th>\n",
       "      <th>relationship</th>\n",
       "      <th>race</th>\n",
       "      <th>sex</th>\n",
       "      <th>capital_gain</th>\n",
       "      <th>capital_loss</th>\n",
       "      <th>hours_per_week</th>\n",
       "      <th>native_country</th>\n",
       "      <th>target</th>\n",
       "    </tr>\n",
       "  </thead>\n",
       "  <tbody>\n",
       "    <tr>\n",
       "      <th>0</th>\n",
       "      <td>39</td>\n",
       "      <td>State-gov</td>\n",
       "      <td>77516</td>\n",
       "      <td>Bachelors</td>\n",
       "      <td>13</td>\n",
       "      <td>Never-married</td>\n",
       "      <td>Adm-clerical</td>\n",
       "      <td>Not-in-family</td>\n",
       "      <td>White</td>\n",
       "      <td>Male</td>\n",
       "      <td>2174</td>\n",
       "      <td>0</td>\n",
       "      <td>40</td>\n",
       "      <td>United-States</td>\n",
       "      <td>0</td>\n",
       "    </tr>\n",
       "    <tr>\n",
       "      <th>1</th>\n",
       "      <td>50</td>\n",
       "      <td>Self-emp-not-inc</td>\n",
       "      <td>83311</td>\n",
       "      <td>Bachelors</td>\n",
       "      <td>13</td>\n",
       "      <td>Married-civ-spouse</td>\n",
       "      <td>Exec-managerial</td>\n",
       "      <td>Husband</td>\n",
       "      <td>White</td>\n",
       "      <td>Male</td>\n",
       "      <td>0</td>\n",
       "      <td>0</td>\n",
       "      <td>13</td>\n",
       "      <td>United-States</td>\n",
       "      <td>0</td>\n",
       "    </tr>\n",
       "    <tr>\n",
       "      <th>2</th>\n",
       "      <td>38</td>\n",
       "      <td>Private</td>\n",
       "      <td>215646</td>\n",
       "      <td>HS-grad</td>\n",
       "      <td>9</td>\n",
       "      <td>Divorced</td>\n",
       "      <td>Handlers-cleaners</td>\n",
       "      <td>Not-in-family</td>\n",
       "      <td>White</td>\n",
       "      <td>Male</td>\n",
       "      <td>0</td>\n",
       "      <td>0</td>\n",
       "      <td>40</td>\n",
       "      <td>United-States</td>\n",
       "      <td>0</td>\n",
       "    </tr>\n",
       "    <tr>\n",
       "      <th>3</th>\n",
       "      <td>53</td>\n",
       "      <td>Private</td>\n",
       "      <td>234721</td>\n",
       "      <td>11th</td>\n",
       "      <td>7</td>\n",
       "      <td>Married-civ-spouse</td>\n",
       "      <td>Handlers-cleaners</td>\n",
       "      <td>Husband</td>\n",
       "      <td>Black</td>\n",
       "      <td>Male</td>\n",
       "      <td>0</td>\n",
       "      <td>0</td>\n",
       "      <td>40</td>\n",
       "      <td>United-States</td>\n",
       "      <td>0</td>\n",
       "    </tr>\n",
       "    <tr>\n",
       "      <th>4</th>\n",
       "      <td>28</td>\n",
       "      <td>Private</td>\n",
       "      <td>338409</td>\n",
       "      <td>Bachelors</td>\n",
       "      <td>13</td>\n",
       "      <td>Married-civ-spouse</td>\n",
       "      <td>Prof-specialty</td>\n",
       "      <td>Wife</td>\n",
       "      <td>Black</td>\n",
       "      <td>Female</td>\n",
       "      <td>0</td>\n",
       "      <td>0</td>\n",
       "      <td>40</td>\n",
       "      <td>Cuba</td>\n",
       "      <td>0</td>\n",
       "    </tr>\n",
       "  </tbody>\n",
       "</table>\n",
       "</div>\n",
       "      <button class=\"colab-df-convert\" onclick=\"convertToInteractive('df-d4b64768-6ba0-4049-85b9-a5f748e3d473')\"\n",
       "              title=\"Convert this dataframe to an interactive table.\"\n",
       "              style=\"display:none;\">\n",
       "        \n",
       "  <svg xmlns=\"http://www.w3.org/2000/svg\" height=\"24px\"viewBox=\"0 0 24 24\"\n",
       "       width=\"24px\">\n",
       "    <path d=\"M0 0h24v24H0V0z\" fill=\"none\"/>\n",
       "    <path d=\"M18.56 5.44l.94 2.06.94-2.06 2.06-.94-2.06-.94-.94-2.06-.94 2.06-2.06.94zm-11 1L8.5 8.5l.94-2.06 2.06-.94-2.06-.94L8.5 2.5l-.94 2.06-2.06.94zm10 10l.94 2.06.94-2.06 2.06-.94-2.06-.94-.94-2.06-.94 2.06-2.06.94z\"/><path d=\"M17.41 7.96l-1.37-1.37c-.4-.4-.92-.59-1.43-.59-.52 0-1.04.2-1.43.59L10.3 9.45l-7.72 7.72c-.78.78-.78 2.05 0 2.83L4 21.41c.39.39.9.59 1.41.59.51 0 1.02-.2 1.41-.59l7.78-7.78 2.81-2.81c.8-.78.8-2.07 0-2.86zM5.41 20L4 18.59l7.72-7.72 1.47 1.35L5.41 20z\"/>\n",
       "  </svg>\n",
       "      </button>\n",
       "      \n",
       "  <style>\n",
       "    .colab-df-container {\n",
       "      display:flex;\n",
       "      flex-wrap:wrap;\n",
       "      gap: 12px;\n",
       "    }\n",
       "\n",
       "    .colab-df-convert {\n",
       "      background-color: #E8F0FE;\n",
       "      border: none;\n",
       "      border-radius: 50%;\n",
       "      cursor: pointer;\n",
       "      display: none;\n",
       "      fill: #1967D2;\n",
       "      height: 32px;\n",
       "      padding: 0 0 0 0;\n",
       "      width: 32px;\n",
       "    }\n",
       "\n",
       "    .colab-df-convert:hover {\n",
       "      background-color: #E2EBFA;\n",
       "      box-shadow: 0px 1px 2px rgba(60, 64, 67, 0.3), 0px 1px 3px 1px rgba(60, 64, 67, 0.15);\n",
       "      fill: #174EA6;\n",
       "    }\n",
       "\n",
       "    [theme=dark] .colab-df-convert {\n",
       "      background-color: #3B4455;\n",
       "      fill: #D2E3FC;\n",
       "    }\n",
       "\n",
       "    [theme=dark] .colab-df-convert:hover {\n",
       "      background-color: #434B5C;\n",
       "      box-shadow: 0px 1px 3px 1px rgba(0, 0, 0, 0.15);\n",
       "      filter: drop-shadow(0px 1px 2px rgba(0, 0, 0, 0.3));\n",
       "      fill: #FFFFFF;\n",
       "    }\n",
       "  </style>\n",
       "\n",
       "      <script>\n",
       "        const buttonEl =\n",
       "          document.querySelector('#df-d4b64768-6ba0-4049-85b9-a5f748e3d473 button.colab-df-convert');\n",
       "        buttonEl.style.display =\n",
       "          google.colab.kernel.accessAllowed ? 'block' : 'none';\n",
       "\n",
       "        async function convertToInteractive(key) {\n",
       "          const element = document.querySelector('#df-d4b64768-6ba0-4049-85b9-a5f748e3d473');\n",
       "          const dataTable =\n",
       "            await google.colab.kernel.invokeFunction('convertToInteractive',\n",
       "                                                     [key], {});\n",
       "          if (!dataTable) return;\n",
       "\n",
       "          const docLinkHtml = 'Like what you see? Visit the ' +\n",
       "            '<a target=\"_blank\" href=https://colab.research.google.com/notebooks/data_table.ipynb>data table notebook</a>'\n",
       "            + ' to learn more about interactive tables.';\n",
       "          element.innerHTML = '';\n",
       "          dataTable['output_type'] = 'display_data';\n",
       "          await google.colab.output.renderOutput(dataTable, element);\n",
       "          const docLink = document.createElement('div');\n",
       "          docLink.innerHTML = docLinkHtml;\n",
       "          element.appendChild(docLink);\n",
       "        }\n",
       "      </script>\n",
       "    </div>\n",
       "  </div>\n",
       "  "
      ],
      "text/plain": [
       "   age          workclass  fnlwgt   education  education_num  \\\n",
       "0   39          State-gov   77516   Bachelors             13   \n",
       "1   50   Self-emp-not-inc   83311   Bachelors             13   \n",
       "2   38            Private  215646     HS-grad              9   \n",
       "3   53            Private  234721        11th              7   \n",
       "4   28            Private  338409   Bachelors             13   \n",
       "\n",
       "        marital_status          occupation    relationship    race      sex  \\\n",
       "0        Never-married        Adm-clerical   Not-in-family   White     Male   \n",
       "1   Married-civ-spouse     Exec-managerial         Husband   White     Male   \n",
       "2             Divorced   Handlers-cleaners   Not-in-family   White     Male   \n",
       "3   Married-civ-spouse   Handlers-cleaners         Husband   Black     Male   \n",
       "4   Married-civ-spouse      Prof-specialty            Wife   Black   Female   \n",
       "\n",
       "   capital_gain  capital_loss  hours_per_week  native_country  target  \n",
       "0          2174             0              40   United-States       0  \n",
       "1             0             0              13   United-States       0  \n",
       "2             0             0              40   United-States       0  \n",
       "3             0             0              40   United-States       0  \n",
       "4             0             0              40            Cuba       0  "
      ]
     },
     "execution_count": 27,
     "metadata": {},
     "output_type": "execute_result"
    }
   ],
   "source": [
    "data.head()"
   ]
  },
  {
   "cell_type": "code",
   "execution_count": 28,
   "metadata": {
    "colab": {
     "base_uri": "https://localhost:8080/"
    },
    "executionInfo": {
     "elapsed": 8,
     "status": "ok",
     "timestamp": 1681844774910,
     "user": {
      "displayName": "Win Htet",
      "userId": "03895928721449709279"
     },
     "user_tz": -390
    },
    "id": "WCzUpmKz0btF",
    "outputId": "6e8e4b7f-fab3-4ce8-ce39-55aa9255456b"
   },
   "outputs": [
    {
     "data": {
      "text/plain": [
       "0    24720\n",
       "1     7841\n",
       "Name: target, dtype: int64"
      ]
     },
     "execution_count": 28,
     "metadata": {},
     "output_type": "execute_result"
    }
   ],
   "source": [
    "data.target.value_counts()"
   ]
  },
  {
   "cell_type": "code",
   "execution_count": 29,
   "metadata": {
    "executionInfo": {
     "elapsed": 4,
     "status": "ok",
     "timestamp": 1681844774911,
     "user": {
      "displayName": "Win Htet",
      "userId": "03895928721449709279"
     },
     "user_tz": -390
    },
    "id": "4crPAw-70eaJ"
   },
   "outputs": [],
   "source": [
    "#select 4 features for demonstration\n",
    "features = ['age','education_num','sex','hours_per_week']\n",
    "all_ft = features + ['target']\n",
    "df = data[all_ft]"
   ]
  },
  {
   "cell_type": "code",
   "execution_count": 30,
   "metadata": {
    "colab": {
     "base_uri": "https://localhost:8080/"
    },
    "executionInfo": {
     "elapsed": 4,
     "status": "ok",
     "timestamp": 1681844775538,
     "user": {
      "displayName": "Win Htet",
      "userId": "03895928721449709279"
     },
     "user_tz": -390
    },
    "id": "4emzqdPP0gwD",
    "outputId": "f94d1c96-e7bf-4afe-b8ff-ff13f870be34"
   },
   "outputs": [
    {
     "name": "stdout",
     "output_type": "stream",
     "text": [
      "['sex']\n"
     ]
    }
   ],
   "source": [
    "print([column for column in df.columns if df[column].dtype == object])"
   ]
  },
  {
   "cell_type": "code",
   "execution_count": 31,
   "metadata": {
    "colab": {
     "base_uri": "https://localhost:8080/"
    },
    "executionInfo": {
     "elapsed": 8,
     "status": "ok",
     "timestamp": 1681844776387,
     "user": {
      "displayName": "Win Htet",
      "userId": "03895928721449709279"
     },
     "user_tz": -390
    },
    "id": "oVECgXTa0jNl",
    "outputId": "15d27de1-dba3-48a0-8eb7-2473e0c85d97"
   },
   "outputs": [
    {
     "data": {
      "text/plain": [
       " Male      21790\n",
       " Female    10771\n",
       "Name: sex, dtype: int64"
      ]
     },
     "execution_count": 31,
     "metadata": {},
     "output_type": "execute_result"
    }
   ],
   "source": [
    "df.sex.value_counts()"
   ]
  },
  {
   "cell_type": "code",
   "execution_count": 32,
   "metadata": {
    "colab": {
     "base_uri": "https://localhost:8080/"
    },
    "executionInfo": {
     "elapsed": 3,
     "status": "ok",
     "timestamp": 1681844778126,
     "user": {
      "displayName": "Win Htet",
      "userId": "03895928721449709279"
     },
     "user_tz": -390
    },
    "id": "9mSIDxLY0k5G",
    "outputId": "59db4dc2-c215-4fa3-8b86-b4e5e0fecfe5"
   },
   "outputs": [
    {
     "data": {
      "text/plain": [
       "1    21790\n",
       "0    10771\n",
       "Name: sex, dtype: int64"
      ]
     },
     "execution_count": 32,
     "metadata": {},
     "output_type": "execute_result"
    }
   ],
   "source": [
    "# convert categorical\n",
    "df['sex'] = np.where(df['sex'] == ' Male', 1, 0)\n",
    "df.sex.value_counts()"
   ]
  },
  {
   "cell_type": "code",
   "execution_count": 33,
   "metadata": {
    "executionInfo": {
     "elapsed": 10,
     "status": "ok",
     "timestamp": 1681844778858,
     "user": {
      "displayName": "Win Htet",
      "userId": "03895928721449709279"
     },
     "user_tz": -390
    },
    "id": "P1m8emZp0mhD"
   },
   "outputs": [],
   "source": [
    "# Select the features and target variable\n",
    "X = df.drop(['target'], axis=1)\n",
    "y = df['target']"
   ]
  },
  {
   "cell_type": "code",
   "execution_count": 34,
   "metadata": {
    "executionInfo": {
     "elapsed": 2,
     "status": "ok",
     "timestamp": 1681844779415,
     "user": {
      "displayName": "Win Htet",
      "userId": "03895928721449709279"
     },
     "user_tz": -390
    },
    "id": "SgF8bsGv0ooX"
   },
   "outputs": [],
   "source": [
    "# Split the dataset into training and testing sets\n",
    "X_train, X_test, y_train, y_test = train_test_split(X, y, test_size=0.2, random_state=1)"
   ]
  },
  {
   "cell_type": "code",
   "execution_count": 35,
   "metadata": {
    "executionInfo": {
     "elapsed": 6,
     "status": "ok",
     "timestamp": 1681844780672,
     "user": {
      "displayName": "Win Htet",
      "userId": "03895928721449709279"
     },
     "user_tz": -390
    },
    "id": "7Jb-R0tHkL3R"
   },
   "outputs": [],
   "source": [
    "def model_function(dropout_rate, verbose=0):\n",
    "    # Select a `keras` model, sequential function allows us to specify our neural network architecture\n",
    "    model = keras.Sequential()\n",
    "    # First Layer is dense implying that the features are connected to every single node in the first hidden layer\n",
    "    model.add(Dense(128, kernel_initializer=\"normal\", activation=\"relu\", input_dim=4))\n",
    "    model.add(Dense(64, kernel_initializer=\"normal\", activation=\"relu\"))\n",
    "    model.add(Dense(8, kernel_initializer=\"normal\", activation=\"relu\"))\n",
    "    # Drop out is added to ignore irrelevant neurons\n",
    "    model.add(Dropout(dropout_rate))\n",
    "    # We add sigmoid to classify the target\n",
    "    model.add(Dense(1, activation=\"sigmoid\"))\n",
    "    # the loss function is binary cross entropy because the problem is a binary classification\n",
    "    model.compile(loss=\"binary_crossentropy\", optimizer=\"rmsprop\")\n",
    "    return model"
   ]
  },
  {
   "cell_type": "code",
   "execution_count": 36,
   "metadata": {
    "colab": {
     "base_uri": "https://localhost:8080/"
    },
    "executionInfo": {
     "elapsed": 145061,
     "status": "ok",
     "timestamp": 1681844926968,
     "user": {
      "displayName": "Win Htet",
      "userId": "03895928721449709279"
     },
     "user_tz": -390
    },
    "id": "yxrpZ5R-0qKu",
    "outputId": "03869385-4a07-4177-b3bc-79bd38d0a2bb"
   },
   "outputs": [
    {
     "name": "stdout",
     "output_type": "stream",
     "text": [
      "204/204 [==============================] - 0s 1ms/step\n"
     ]
    }
   ],
   "source": [
    "model = KerasClassifier(\n",
    "    build_fn=model_function, dropout_rate=0.2, verbose=0, batch_size=50, epochs=100\n",
    ")\n",
    "model.fit(X_train, y_train)\n",
    "y_predict_dl = model.predict(X_test)"
   ]
  },
  {
   "cell_type": "code",
   "execution_count": 37,
   "metadata": {
    "colab": {
     "base_uri": "https://localhost:8080/"
    },
    "executionInfo": {
     "elapsed": 41,
     "status": "ok",
     "timestamp": 1681844926972,
     "user": {
      "displayName": "Win Htet",
      "userId": "03895928721449709279"
     },
     "user_tz": -390
    },
    "id": "328w9b3L0rp0",
    "outputId": "f518c8fa-b4af-4df5-fe06-052478bf2d9c"
   },
   "outputs": [
    {
     "name": "stdout",
     "output_type": "stream",
     "text": [
      "Deep Learning ROC AUC is 0.6354\n"
     ]
    }
   ],
   "source": [
    "ROC_AUC_metric = roc_auc_score(y_test, pd.DataFrame(y_predict_dl.flatten()))\n",
    "print(\"Deep Learning ROC AUC is {:.4f}\".format(ROC_AUC_metric))"
   ]
  },
  {
   "cell_type": "code",
   "execution_count": 38,
   "metadata": {
    "colab": {
     "base_uri": "https://localhost:8080/"
    },
    "executionInfo": {
     "elapsed": 38,
     "status": "ok",
     "timestamp": 1681844926973,
     "user": {
      "displayName": "Win Htet",
      "userId": "03895928721449709279"
     },
     "user_tz": -390
    },
    "id": "8WlB8qHckVlN",
    "outputId": "38e0e020-ac2c-494e-cdb9-985340859a3e"
   },
   "outputs": [
    {
     "name": "stdout",
     "output_type": "stream",
     "text": [
      "\n",
      "Classification Report for deep learning model\n",
      "              precision    recall  f1-score   support\n",
      "\n",
      "           0       0.82      0.97      0.89      5026\n",
      "           1       0.73      0.30      0.43      1487\n",
      "\n",
      "    accuracy                           0.82      6513\n",
      "   macro avg       0.78      0.64      0.66      6513\n",
      "weighted avg       0.80      0.82      0.78      6513\n",
      "\n"
     ]
    }
   ],
   "source": [
    "print(\"\\nClassification Report for deep learning model\")\n",
    "print(classification_report(y_test, y_predict_dl.flatten()))"
   ]
  },
  {
   "cell_type": "code",
   "execution_count": 39,
   "metadata": {
    "colab": {
     "base_uri": "https://localhost:8080/"
    },
    "executionInfo": {
     "elapsed": 33,
     "status": "ok",
     "timestamp": 1681844926974,
     "user": {
      "displayName": "Win Htet",
      "userId": "03895928721449709279"
     },
     "user_tz": -390
    },
    "id": "1cm1tS0o0tVY",
    "outputId": "5a2d477d-2b08-4877-8f93-c568693fe222"
   },
   "outputs": [
    {
     "name": "stdout",
     "output_type": "stream",
     "text": [
      "\n",
      "The brier score is equal to \n"
     ]
    },
    {
     "data": {
      "text/plain": [
       "0.18486104713649623"
      ]
     },
     "execution_count": 39,
     "metadata": {},
     "output_type": "execute_result"
    }
   ],
   "source": [
    "print(\"\\nThe brier score is equal to \")\n",
    "brier_score_loss(y_test, y_predict_dl.flatten(), pos_label=1)"
   ]
  },
  {
   "cell_type": "code",
   "execution_count": 40,
   "metadata": {
    "colab": {
     "base_uri": "https://localhost:8080/",
     "height": 452
    },
    "executionInfo": {
     "elapsed": 29,
     "status": "ok",
     "timestamp": 1681844926974,
     "user": {
      "displayName": "Win Htet",
      "userId": "03895928721449709279"
     },
     "user_tz": -390
    },
    "id": "FmRwXHnoRTYc",
    "outputId": "cbb2f2a5-0d10-4ce6-ccf5-19fb2e7c82f3"
   },
   "outputs": [
    {
     "data": {
      "image/png": "[encoded data removed]",
      "text/plain": [
       "<Figure size 640x480 with 2 Axes>"
      ]
     },
     "metadata": {},
     "output_type": "display_data"
    }
   ],
   "source": [
    "import seaborn as sns\n",
    "from sklearn.metrics import confusion_matrix\n",
    "# passing actual and predicted values\n",
    "cm_NN = confusion_matrix(y_test, y_predict_dl.flatten())\n",
    "# true Write data values in each cell of the matrix\n",
    "sns.heatmap(cm_NN,annot=True);\n",
    "plt.title(\"Confusion Matrix for NN\")\n",
    "plt.show();"
   ]
  },
  {
   "cell_type": "code",
   "execution_count": 41,
   "metadata": {
    "executionInfo": {
     "elapsed": 28,
     "status": "ok",
     "timestamp": 1681844926976,
     "user": {
      "displayName": "Win Htet",
      "userId": "03895928721449709279"
     },
     "user_tz": -390
    },
    "id": "k-X-yJhomKF_"
   },
   "outputs": [],
   "source": [
    "fpr, tpr, _ = roc_curve(y_test, y_predict_dl)\n",
    "auc = round(ROC_AUC_metric,4)"
   ]
  },
  {
   "cell_type": "code",
   "execution_count": 42,
   "metadata": {
    "colab": {
     "base_uri": "https://localhost:8080/",
     "height": 472
    },
    "executionInfo": {
     "elapsed": 28,
     "status": "ok",
     "timestamp": 1681844926977,
     "user": {
      "displayName": "Win Htet",
      "userId": "03895928721449709279"
     },
     "user_tz": -390
    },
    "id": "Q96u3G-UmTzT",
    "outputId": "432f92c9-d06e-4b4d-ac94-25a9c955d2bd"
   },
   "outputs": [
    {
     "data": {
      "image/png": "[encoded data removed]",
      "text/plain": [
       "<Figure size 640x480 with 1 Axes>"
      ]
     },
     "metadata": {},
     "output_type": "display_data"
    }
   ],
   "source": [
    "plt.plot(fpr, tpr, label=\"Keras(NN), auc=\" + str(auc))\n",
    "plt.plot(fpr, fpr, \"--\", label=\"Random\")\n",
    "plt.legend(loc=4)\n",
    "plt.title(\"ROC\")\n",
    "plt.ylabel(\"TPR\")\n",
    "plt.xlabel(\"FPR\")\n",
    "plt.show();"
   ]
  },
  {
   "cell_type": "code",
   "execution_count": null,
   "metadata": {
    "colab": {
     "base_uri": "https://localhost:8080/"
    },
    "executionInfo": {
     "elapsed": 6266,
     "status": "ok",
     "timestamp": 1681845484271,
     "user": {
      "displayName": "Win Htet",
      "userId": "03895928721449709279"
     },
     "user_tz": -390
    },
    "id": "VkMwmqH1mnme",
    "outputId": "bc45d5ab-fc0a-42c9-8cec-0dbd87479580"
   },
   "outputs": [],
   "source": []
  },
  {
   "cell_type": "code",
   "execution_count": null,
   "metadata": {
    "id": "1ZTiuA8ezVrF"
   },
   "outputs": [],
   "source": []
  }
 ],
 "metadata": {
  "colab": {
   "provenance": []
  },
  "kernelspec": {
   "display_name": "Python 3",
   "language": "python",
   "name": "python3"
  },
  "language_info": {
   "codemirror_mode": {
    "name": "ipython",
    "version": 3
   },
   "file_extension": ".py",
   "mimetype": "text/x-python",
   "name": "python",
   "nbconvert_exporter": "python",
   "pygments_lexer": "ipython3",
   "version": "3.7.8"
  }
 },
 "nbformat": 4,
 "nbformat_minor": 1
}
